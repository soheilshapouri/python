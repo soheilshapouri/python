{
 "cells": [
  {
   "cell_type": "code",
   "execution_count": 26,
   "metadata": {},
   "outputs": [],
   "source": [
    "#yahoo finance\n",
    "import yfinance as yf\n",
    "import pandas as pd\n",
    "# I assume working with y finance might need json library \n",
    "import json"
   ]
  },
  {
   "cell_type": "code",
   "execution_count": 23,
   "metadata": {},
   "outputs": [
    {
     "data": {
      "text/plain": [
       "yfinance.Ticker object <AAPL>"
      ]
     },
     "execution_count": 23,
     "metadata": {},
     "output_type": "execute_result"
    }
   ],
   "source": [
    "apple = yf.Ticker(\"AAPL\")\n",
    "apple"
   ]
  },
  {
   "cell_type": "code",
   "execution_count": 33,
   "metadata": {},
   "outputs": [],
   "source": [
    "KVSA = yf.Ticker(\"KVSA\")"
   ]
  },
  {
   "cell_type": "code",
   "execution_count": 38,
   "metadata": {},
   "outputs": [
    {
     "data": {
      "text/plain": [
       "yfinance.ticker.Ticker"
      ]
     },
     "execution_count": 38,
     "metadata": {},
     "output_type": "execute_result"
    }
   ],
   "source": [
    "type(KVSA)"
   ]
  },
  {
   "cell_type": "code",
   "execution_count": 36,
   "metadata": {},
   "outputs": [
    {
     "data": {
      "text/plain": [
       "{'symbol': 'KVSA',\n",
       " 'twoHundredDayAverageChangePercent': 0.022482913,\n",
       " 'fiftyTwoWeekLowChangePercent': 0.044032868,\n",
       " 'language': 'en-US',\n",
       " 'regularMarketDayRange': '10.13 - 10.15',\n",
       " 'regularMarketDayHigh': 10.15,\n",
       " 'twoHundredDayAverageChange': 0.22313976,\n",
       " 'twoHundredDayAverage': 9.92486,\n",
       " 'askSize': 18,\n",
       " 'bookValue': -0.153,\n",
       " 'ipoExpectedDate': '2021-03-04',\n",
       " 'marketCap': 411298432,\n",
       " 'fiftyTwoWeekHighChange': -0.001999855,\n",
       " 'fiftyTwoWeekRange': '9.72 - 10.15',\n",
       " 'fiftyDayAverageChange': 0.044400215,\n",
       " 'exchangeDataDelayedBy': 0,\n",
       " 'firstTradeDateMilliseconds': 1614868200000,\n",
       " 'averageDailyVolume3Month': 165410,\n",
       " 'trailingAnnualDividendRate': 0.0,\n",
       " 'fiftyTwoWeekLow': 9.72,\n",
       " 'market': 'us_market',\n",
       " 'regularMarketVolume': 321,\n",
       " 'messageBoardId': 'finmb_704390102',\n",
       " 'priceHint': 2,\n",
       " 'exchange': 'NCM',\n",
       " 'sourceInterval': 15,\n",
       " 'regularMarketDayLow': 10.13,\n",
       " 'region': 'US',\n",
       " 'shortName': 'Khosla Ventures Acquisition Co.',\n",
       " 'fiftyDayAverageChangePercent': 0.004394495,\n",
       " 'fullExchangeName': 'NasdaqCM',\n",
       " 'financialCurrency': 'USD',\n",
       " 'displayName': 'Khosla Ventures',\n",
       " 'gmtOffSetMilliseconds': -14400000,\n",
       " 'regularMarketOpen': 10.13,\n",
       " 'regularMarketTime': '1:28PM EDT',\n",
       " 'regularMarketChangePercent': 0.17768657,\n",
       " 'quoteType': 'EQUITY',\n",
       " 'trailingAnnualDividendYield': 0.0,\n",
       " 'averageDailyVolume10Day': 193850,\n",
       " 'fiftyTwoWeekLowChange': 0.4279995,\n",
       " 'fiftyTwoWeekHighChangePercent': -0.00019703007,\n",
       " 'typeDisp': 'Equity',\n",
       " 'trailingPE': 21.141666,\n",
       " 'tradeable': False,\n",
       " 'currency': 'USD',\n",
       " 'sharesOutstanding': 35490000,\n",
       " 'regularMarketPreviousClose': 10.13,\n",
       " 'fiftyTwoWeekHigh': 10.15,\n",
       " 'exchangeTimezoneName': 'America/New_York',\n",
       " 'bidSize': 9,\n",
       " 'regularMarketChange': 0.017999649,\n",
       " 'cryptoTradeable': False,\n",
       " 'fiftyDayAverage': 10.1036,\n",
       " 'exchangeTimezoneShortName': 'EDT',\n",
       " 'regularMarketPrice': 10.148,\n",
       " 'customPriceAlertConfidence': 'HIGH',\n",
       " 'marketState': 'REGULAR',\n",
       " 'ask': 10.15,\n",
       " 'epsTrailingTwelveMonths': 0.48,\n",
       " 'bid': 10.1,\n",
       " 'triggerable': True,\n",
       " 'priceToBook': -66.3268,\n",
       " 'longName': 'Khosla Ventures Acquisition Co.',\n",
       " 'trailingPegRatio': None}"
      ]
     },
     "execution_count": 36,
     "metadata": {},
     "output_type": "execute_result"
    }
   ],
   "source": [
    "KVSA.info"
   ]
  },
  {
   "cell_type": "code",
   "execution_count": 39,
   "metadata": {},
   "outputs": [
    {
     "data": {
      "text/plain": [
       "'KVSA'"
      ]
     },
     "execution_count": 39,
     "metadata": {},
     "output_type": "execute_result"
    }
   ],
   "source": [
    "#hwo to read teh json file from y finance \n",
    "KVSA.info['symbol']"
   ]
  },
  {
   "cell_type": "code",
   "execution_count": 40,
   "metadata": {},
   "outputs": [
    {
     "name": "stdout",
     "output_type": "stream",
     "text": [
      "[*********************100%***********************]  1 of 1 completed\n"
     ]
    }
   ],
   "source": [
    "apple = yf.download(\"AAPL\", start=\"2021-01-01\", end=\"2021-12-31\")"
   ]
  },
  {
   "cell_type": "code",
   "execution_count": 41,
   "metadata": {},
   "outputs": [
    {
     "data": {
      "text/plain": [
       "<bound method DataFrame.info of                   Open        High         Low       Close   Adj Close  \\\n",
       "Date                                                                     \n",
       "2021-01-04  133.520004  133.610001  126.760002  129.410004  127.680008   \n",
       "2021-01-05  128.889999  131.740005  128.429993  131.009995  129.258621   \n",
       "2021-01-06  127.720001  131.050003  126.379997  126.599998  124.907562   \n",
       "2021-01-07  128.360001  131.630005  127.860001  130.919998  129.169800   \n",
       "2021-01-08  132.429993  132.630005  130.229996  132.050003  130.284698   \n",
       "...                ...         ...         ...         ...         ...   \n",
       "2021-12-23  175.850006  176.850006  175.270004  176.279999  174.995605   \n",
       "2021-12-27  177.089996  180.419998  177.070007  180.330002  179.016113   \n",
       "2021-12-28  180.160004  181.330002  178.529999  179.289993  177.983688   \n",
       "2021-12-29  179.330002  180.630005  178.139999  179.380005  178.073044   \n",
       "2021-12-30  179.470001  180.570007  178.089996  178.199997  176.901627   \n",
       "\n",
       "               Volume  \n",
       "Date                   \n",
       "2021-01-04  143301900  \n",
       "2021-01-05   97664900  \n",
       "2021-01-06  155088000  \n",
       "2021-01-07  109578200  \n",
       "2021-01-08  105158200  \n",
       "...               ...  \n",
       "2021-12-23   68356600  \n",
       "2021-12-27   74919600  \n",
       "2021-12-28   79144300  \n",
       "2021-12-29   62348900  \n",
       "2021-12-30   59773000  \n",
       "\n",
       "[251 rows x 6 columns]>"
      ]
     },
     "execution_count": 41,
     "metadata": {},
     "output_type": "execute_result"
    }
   ],
   "source": [
    "apple.info"
   ]
  },
  {
   "cell_type": "code",
   "execution_count": 45,
   "metadata": {},
   "outputs": [
    {
     "data": {
      "text/html": [
       "<div>\n",
       "<style scoped>\n",
       "    .dataframe tbody tr th:only-of-type {\n",
       "        vertical-align: middle;\n",
       "    }\n",
       "\n",
       "    .dataframe tbody tr th {\n",
       "        vertical-align: top;\n",
       "    }\n",
       "\n",
       "    .dataframe thead th {\n",
       "        text-align: right;\n",
       "    }\n",
       "</style>\n",
       "<table border=\"1\" class=\"dataframe\">\n",
       "  <thead>\n",
       "    <tr style=\"text-align: right;\">\n",
       "      <th></th>\n",
       "      <th>Open</th>\n",
       "      <th>High</th>\n",
       "      <th>Low</th>\n",
       "      <th>Close</th>\n",
       "      <th>Volume</th>\n",
       "      <th>Dividends</th>\n",
       "      <th>Stock Splits</th>\n",
       "    </tr>\n",
       "    <tr>\n",
       "      <th>Date</th>\n",
       "      <th></th>\n",
       "      <th></th>\n",
       "      <th></th>\n",
       "      <th></th>\n",
       "      <th></th>\n",
       "      <th></th>\n",
       "      <th></th>\n",
       "    </tr>\n",
       "  </thead>\n",
       "  <tbody>\n",
       "    <tr>\n",
       "      <th>2023-03-27 00:00:00-04:00</th>\n",
       "      <td>10.14</td>\n",
       "      <td>10.15</td>\n",
       "      <td>10.140</td>\n",
       "      <td>10.15</td>\n",
       "      <td>22500</td>\n",
       "      <td>0.0</td>\n",
       "      <td>0.0</td>\n",
       "    </tr>\n",
       "    <tr>\n",
       "      <th>2023-03-28 00:00:00-04:00</th>\n",
       "      <td>10.13</td>\n",
       "      <td>10.15</td>\n",
       "      <td>10.125</td>\n",
       "      <td>10.13</td>\n",
       "      <td>26600</td>\n",
       "      <td>0.0</td>\n",
       "      <td>0.0</td>\n",
       "    </tr>\n",
       "    <tr>\n",
       "      <th>2023-03-29 00:00:00-04:00</th>\n",
       "      <td>10.13</td>\n",
       "      <td>10.14</td>\n",
       "      <td>10.130</td>\n",
       "      <td>10.14</td>\n",
       "      <td>9900</td>\n",
       "      <td>0.0</td>\n",
       "      <td>0.0</td>\n",
       "    </tr>\n",
       "    <tr>\n",
       "      <th>2023-03-30 00:00:00-04:00</th>\n",
       "      <td>10.13</td>\n",
       "      <td>10.15</td>\n",
       "      <td>10.115</td>\n",
       "      <td>10.14</td>\n",
       "      <td>182800</td>\n",
       "      <td>0.0</td>\n",
       "      <td>0.0</td>\n",
       "    </tr>\n",
       "    <tr>\n",
       "      <th>2023-03-31 00:00:00-04:00</th>\n",
       "      <td>10.11</td>\n",
       "      <td>10.13</td>\n",
       "      <td>10.100</td>\n",
       "      <td>10.12</td>\n",
       "      <td>18601</td>\n",
       "      <td>0.0</td>\n",
       "      <td>0.0</td>\n",
       "    </tr>\n",
       "  </tbody>\n",
       "</table>\n",
       "</div>"
      ],
      "text/plain": [
       "                            Open   High     Low  Close  Volume  Dividends  \\\n",
       "Date                                                                        \n",
       "2023-03-27 00:00:00-04:00  10.14  10.15  10.140  10.15   22500        0.0   \n",
       "2023-03-28 00:00:00-04:00  10.13  10.15  10.125  10.13   26600        0.0   \n",
       "2023-03-29 00:00:00-04:00  10.13  10.14  10.130  10.14    9900        0.0   \n",
       "2023-03-30 00:00:00-04:00  10.13  10.15  10.115  10.14  182800        0.0   \n",
       "2023-03-31 00:00:00-04:00  10.11  10.13  10.100  10.12   18601        0.0   \n",
       "\n",
       "                           Stock Splits  \n",
       "Date                                     \n",
       "2023-03-27 00:00:00-04:00           0.0  \n",
       "2023-03-28 00:00:00-04:00           0.0  \n",
       "2023-03-29 00:00:00-04:00           0.0  \n",
       "2023-03-30 00:00:00-04:00           0.0  \n",
       "2023-03-31 00:00:00-04:00           0.0  "
      ]
     },
     "execution_count": 45,
     "metadata": {},
     "output_type": "execute_result"
    }
   ],
   "source": [
    "KVSA_history = KVSA.history(period= \"max\")\n",
    "#other options for perios 1d, 5d, 1y, 5y, etc. \n",
    "KVSA.history(period= \"5d\")"
   ]
  },
  {
   "cell_type": "code",
   "execution_count": 47,
   "metadata": {},
   "outputs": [
    {
     "data": {
      "text/html": [
       "<div>\n",
       "<style scoped>\n",
       "    .dataframe tbody tr th:only-of-type {\n",
       "        vertical-align: middle;\n",
       "    }\n",
       "\n",
       "    .dataframe tbody tr th {\n",
       "        vertical-align: top;\n",
       "    }\n",
       "\n",
       "    .dataframe thead th {\n",
       "        text-align: right;\n",
       "    }\n",
       "</style>\n",
       "<table border=\"1\" class=\"dataframe\">\n",
       "  <thead>\n",
       "    <tr style=\"text-align: right;\">\n",
       "      <th></th>\n",
       "      <th>index</th>\n",
       "      <th>Date</th>\n",
       "      <th>Open</th>\n",
       "      <th>High</th>\n",
       "      <th>Low</th>\n",
       "      <th>Close</th>\n",
       "      <th>Volume</th>\n",
       "      <th>Dividends</th>\n",
       "      <th>Stock Splits</th>\n",
       "    </tr>\n",
       "  </thead>\n",
       "  <tbody>\n",
       "    <tr>\n",
       "      <th>0</th>\n",
       "      <td>0</td>\n",
       "      <td>2021-03-04 00:00:00-05:00</td>\n",
       "      <td>10.14</td>\n",
       "      <td>10.60</td>\n",
       "      <td>10.100</td>\n",
       "      <td>10.25</td>\n",
       "      <td>8416100</td>\n",
       "      <td>0.0</td>\n",
       "      <td>0.0</td>\n",
       "    </tr>\n",
       "    <tr>\n",
       "      <th>1</th>\n",
       "      <td>1</td>\n",
       "      <td>2021-03-05 00:00:00-05:00</td>\n",
       "      <td>10.45</td>\n",
       "      <td>10.70</td>\n",
       "      <td>10.330</td>\n",
       "      <td>10.70</td>\n",
       "      <td>1163800</td>\n",
       "      <td>0.0</td>\n",
       "      <td>0.0</td>\n",
       "    </tr>\n",
       "    <tr>\n",
       "      <th>2</th>\n",
       "      <td>2</td>\n",
       "      <td>2021-03-08 00:00:00-05:00</td>\n",
       "      <td>10.76</td>\n",
       "      <td>10.97</td>\n",
       "      <td>10.450</td>\n",
       "      <td>10.50</td>\n",
       "      <td>533500</td>\n",
       "      <td>0.0</td>\n",
       "      <td>0.0</td>\n",
       "    </tr>\n",
       "    <tr>\n",
       "      <th>3</th>\n",
       "      <td>3</td>\n",
       "      <td>2021-03-09 00:00:00-05:00</td>\n",
       "      <td>10.60</td>\n",
       "      <td>10.69</td>\n",
       "      <td>10.300</td>\n",
       "      <td>10.33</td>\n",
       "      <td>884200</td>\n",
       "      <td>0.0</td>\n",
       "      <td>0.0</td>\n",
       "    </tr>\n",
       "    <tr>\n",
       "      <th>4</th>\n",
       "      <td>4</td>\n",
       "      <td>2021-03-10 00:00:00-05:00</td>\n",
       "      <td>10.40</td>\n",
       "      <td>10.55</td>\n",
       "      <td>10.330</td>\n",
       "      <td>10.40</td>\n",
       "      <td>463300</td>\n",
       "      <td>0.0</td>\n",
       "      <td>0.0</td>\n",
       "    </tr>\n",
       "    <tr>\n",
       "      <th>...</th>\n",
       "      <td>...</td>\n",
       "      <td>...</td>\n",
       "      <td>...</td>\n",
       "      <td>...</td>\n",
       "      <td>...</td>\n",
       "      <td>...</td>\n",
       "      <td>...</td>\n",
       "      <td>...</td>\n",
       "      <td>...</td>\n",
       "    </tr>\n",
       "    <tr>\n",
       "      <th>519</th>\n",
       "      <td>519</td>\n",
       "      <td>2023-03-27 00:00:00-04:00</td>\n",
       "      <td>10.14</td>\n",
       "      <td>10.15</td>\n",
       "      <td>10.140</td>\n",
       "      <td>10.15</td>\n",
       "      <td>22500</td>\n",
       "      <td>0.0</td>\n",
       "      <td>0.0</td>\n",
       "    </tr>\n",
       "    <tr>\n",
       "      <th>520</th>\n",
       "      <td>520</td>\n",
       "      <td>2023-03-28 00:00:00-04:00</td>\n",
       "      <td>10.13</td>\n",
       "      <td>10.15</td>\n",
       "      <td>10.125</td>\n",
       "      <td>10.13</td>\n",
       "      <td>26600</td>\n",
       "      <td>0.0</td>\n",
       "      <td>0.0</td>\n",
       "    </tr>\n",
       "    <tr>\n",
       "      <th>521</th>\n",
       "      <td>521</td>\n",
       "      <td>2023-03-29 00:00:00-04:00</td>\n",
       "      <td>10.13</td>\n",
       "      <td>10.14</td>\n",
       "      <td>10.130</td>\n",
       "      <td>10.14</td>\n",
       "      <td>9900</td>\n",
       "      <td>0.0</td>\n",
       "      <td>0.0</td>\n",
       "    </tr>\n",
       "    <tr>\n",
       "      <th>522</th>\n",
       "      <td>522</td>\n",
       "      <td>2023-03-30 00:00:00-04:00</td>\n",
       "      <td>10.13</td>\n",
       "      <td>10.15</td>\n",
       "      <td>10.115</td>\n",
       "      <td>10.14</td>\n",
       "      <td>182800</td>\n",
       "      <td>0.0</td>\n",
       "      <td>0.0</td>\n",
       "    </tr>\n",
       "    <tr>\n",
       "      <th>523</th>\n",
       "      <td>523</td>\n",
       "      <td>2023-03-31 00:00:00-04:00</td>\n",
       "      <td>10.11</td>\n",
       "      <td>10.13</td>\n",
       "      <td>10.100</td>\n",
       "      <td>10.12</td>\n",
       "      <td>18601</td>\n",
       "      <td>0.0</td>\n",
       "      <td>0.0</td>\n",
       "    </tr>\n",
       "  </tbody>\n",
       "</table>\n",
       "<p>524 rows × 9 columns</p>\n",
       "</div>"
      ],
      "text/plain": [
       "     index                      Date   Open   High     Low  Close   Volume  \\\n",
       "0        0 2021-03-04 00:00:00-05:00  10.14  10.60  10.100  10.25  8416100   \n",
       "1        1 2021-03-05 00:00:00-05:00  10.45  10.70  10.330  10.70  1163800   \n",
       "2        2 2021-03-08 00:00:00-05:00  10.76  10.97  10.450  10.50   533500   \n",
       "3        3 2021-03-09 00:00:00-05:00  10.60  10.69  10.300  10.33   884200   \n",
       "4        4 2021-03-10 00:00:00-05:00  10.40  10.55  10.330  10.40   463300   \n",
       "..     ...                       ...    ...    ...     ...    ...      ...   \n",
       "519    519 2023-03-27 00:00:00-04:00  10.14  10.15  10.140  10.15    22500   \n",
       "520    520 2023-03-28 00:00:00-04:00  10.13  10.15  10.125  10.13    26600   \n",
       "521    521 2023-03-29 00:00:00-04:00  10.13  10.14  10.130  10.14     9900   \n",
       "522    522 2023-03-30 00:00:00-04:00  10.13  10.15  10.115  10.14   182800   \n",
       "523    523 2023-03-31 00:00:00-04:00  10.11  10.13  10.100  10.12    18601   \n",
       "\n",
       "     Dividends  Stock Splits  \n",
       "0          0.0           0.0  \n",
       "1          0.0           0.0  \n",
       "2          0.0           0.0  \n",
       "3          0.0           0.0  \n",
       "4          0.0           0.0  \n",
       "..         ...           ...  \n",
       "519        0.0           0.0  \n",
       "520        0.0           0.0  \n",
       "521        0.0           0.0  \n",
       "522        0.0           0.0  \n",
       "523        0.0           0.0  \n",
       "\n",
       "[524 rows x 9 columns]"
      ]
     },
     "execution_count": 47,
     "metadata": {},
     "output_type": "execute_result"
    }
   ],
   "source": [
    "#at this point Date is the index but we can change thta wit reset index \n",
    "KVSA_history.reset_index(inplace=True)\n",
    "KVSA_history"
   ]
  },
  {
   "cell_type": "code",
   "execution_count": 48,
   "metadata": {},
   "outputs": [
    {
     "data": {
      "text/plain": [
       "<AxesSubplot: xlabel='Date'>"
      ]
     },
     "execution_count": 48,
     "metadata": {},
     "output_type": "execute_result"
    },
    {
     "data": {
      "image/png": "[encoded data removed]",
      "text/plain": [
       "<Figure size 640x480 with 1 Axes>"
      ]
     },
     "metadata": {},
     "output_type": "display_data"
    }
   ],
   "source": [
    "#plot opening price against the Date\n",
    "KVSA_history.plot(x = 'Date', y = 'Open')"
   ]
  },
  {
   "cell_type": "code",
   "execution_count": 49,
   "metadata": {},
   "outputs": [
    {
     "data": {
      "text/plain": [
       "0      0.0\n",
       "1      0.0\n",
       "2      0.0\n",
       "3      0.0\n",
       "4      0.0\n",
       "      ... \n",
       "519    0.0\n",
       "520    0.0\n",
       "521    0.0\n",
       "522    0.0\n",
       "523    0.0\n",
       "Name: Dividends, Length: 524, dtype: float64"
      ]
     },
     "execution_count": 49,
     "metadata": {},
     "output_type": "execute_result"
    }
   ],
   "source": [
    "KVSA_history.Dividends\n",
    "#Khosla venture doesn't pay divident "
   ]
  },
  {
   "cell_type": "code",
   "execution_count": 51,
   "metadata": {},
   "outputs": [],
   "source": [
    "apple = yf.Ticker(\"AAPL\")\n",
    "apple_history = apple.history(\"max\")"
   ]
  },
  {
   "cell_type": "code",
   "execution_count": 52,
   "metadata": {},
   "outputs": [
    {
     "data": {
      "text/plain": [
       "Date\n",
       "1980-12-12 00:00:00-05:00    0.0\n",
       "1980-12-15 00:00:00-05:00    0.0\n",
       "1980-12-16 00:00:00-05:00    0.0\n",
       "1980-12-17 00:00:00-05:00    0.0\n",
       "1980-12-18 00:00:00-05:00    0.0\n",
       "                            ... \n",
       "2023-03-27 00:00:00-04:00    0.0\n",
       "2023-03-28 00:00:00-04:00    0.0\n",
       "2023-03-29 00:00:00-04:00    0.0\n",
       "2023-03-30 00:00:00-04:00    0.0\n",
       "2023-03-31 00:00:00-04:00    0.0\n",
       "Name: Dividends, Length: 10665, dtype: float64"
      ]
     },
     "execution_count": 52,
     "metadata": {},
     "output_type": "execute_result"
    }
   ],
   "source": [
    "apple_history.Dividends"
   ]
  },
  {
   "cell_type": "code",
   "execution_count": 54,
   "metadata": {},
   "outputs": [
    {
     "data": {
      "text/plain": [
       "<AxesSubplot: xlabel='Date'>"
      ]
     },
     "execution_count": 54,
     "metadata": {},
     "output_type": "execute_result"
    },
    {
     "data": {
      "image/png": "[encoded data removed]",
      "text/plain": [
       "<Figure size 640x480 with 1 Axes>"
      ]
     },
     "metadata": {},
     "output_type": "display_data"
    }
   ],
   "source": [
    "apple_history.Dividends.plot()"
   ]
  },
  {
   "cell_type": "code",
   "execution_count": 60,
   "metadata": {},
   "outputs": [
    {
     "data": {
      "text/plain": [
       "411298432"
      ]
     },
     "execution_count": 60,
     "metadata": {},
     "output_type": "execute_result"
    }
   ],
   "source": [
    "KVSA.info['marketCap']"
   ]
  }
 ],
 "metadata": {
  "kernelspec": {
   "display_name": "Python 3",
   "language": "python",
   "name": "python3"
  },
  "language_info": {
   "codemirror_mode": {
    "name": "ipython",
    "version": 3
   },
   "file_extension": ".py",
   "mimetype": "text/x-python",
   "name": "python",
   "nbconvert_exporter": "python",
   "pygments_lexer": "ipython3",
   "version": "3.11.1"
  },
  "orig_nbformat": 4
 },
 "nbformat": 4,
 "nbformat_minor": 2
}
