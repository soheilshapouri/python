{
 "cells": [
  {
   "attachments": {},
   "cell_type": "markdown",
   "metadata": {},
   "source": [
    "# My Jupyter Notebook on IBM Watson Studio\n"
   ]
  },
  {
   "attachments": {},
   "cell_type": "markdown",
   "metadata": {},
   "source": [
    "**Soheil Shapouri**  \n",
    "PhD Candidate"
   ]
  },
  {
   "attachments": {},
   "cell_type": "markdown",
   "metadata": {},
   "source": [
    "*The skills you learn as a data scientist can help you better undersand psychological literature, design more sophisticated stuides, and collborate with scientists outside your field*"
   ]
  },
  {
   "attachments": {},
   "cell_type": "markdown",
   "metadata": {},
   "source": [
    "### the code below prints Hello World "
   ]
  },
  {
   "cell_type": "code",
   "execution_count": 7,
   "metadata": {},
   "outputs": [
    {
     "name": "stdout",
     "output_type": "stream",
     "text": [
      "Hello World\n"
     ]
    }
   ],
   "source": [
    "print(\"Hello World\")"
   ]
  },
  {
   "attachments": {},
   "cell_type": "markdown",
   "metadata": {},
   "source": [
    "---\n",
    "a numbered list of items that I will cover in other Jupyter notebooks\n",
    "1. an analysis of natural and technogical disasters in Iran based on [EM-DAT](https://www.emdat.be/) dataset\n",
    "2. how to coonect collectvism, natural disasters, and epidemics\n",
    "3. and finally, a list of natural and technological disaster stinuli in neuroscience visual datasets\n",
    "\n",
    "A table that shows casualities of natural and technological disasters\n",
    "\n",
    "1900-2023| Natural Disasters | Technological Disasters\n",
    "-----|----------------|--------------\n",
    " Killed   |               |       \n",
    " Injured   |               |       \n",
    " Affected   |              |    "
   ]
  }
 ],
 "metadata": {
  "kernelspec": {
   "display_name": "Python 3",
   "language": "python",
   "name": "python3"
  },
  "language_info": {
   "codemirror_mode": {
    "name": "ipython",
    "version": 3
   },
   "file_extension": ".py",
   "mimetype": "text/x-python",
   "name": "python",
   "nbconvert_exporter": "python",
   "pygments_lexer": "ipython3",
   "version": "3.11.1"
  },
  "orig_nbformat": 4,
  "vscode": {
   "interpreter": {
    "hash": "f0200010981f692716d7b02b7cfd5ccf650d808fd09d3be3e1b0d441dd079450"
   }
  }
 },
 "nbformat": 4,
 "nbformat_minor": 2
}
