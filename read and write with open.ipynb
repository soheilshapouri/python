{
 "cells": [
  {
   "cell_type": "code",
   "execution_count": 2,
   "metadata": {},
   "outputs": [],
   "source": [
    "file1 = open(\"C:\\\\Users\\\\17063\\\\Downloads\\\\resources.txt\", \"w\")\n"
   ]
  },
  {
   "cell_type": "code",
   "execution_count": 4,
   "metadata": {},
   "outputs": [
    {
     "data": {
      "text/plain": [
       "'C:\\\\Users\\\\17063\\\\Downloads\\\\resources.txt'"
      ]
     },
     "execution_count": 4,
     "metadata": {},
     "output_type": "execute_result"
    }
   ],
   "source": [
    "file1.name\n"
   ]
  },
  {
   "cell_type": "code",
   "execution_count": 5,
   "metadata": {},
   "outputs": [
    {
     "data": {
      "text/plain": [
       "'w'"
      ]
     },
     "execution_count": 5,
     "metadata": {},
     "output_type": "execute_result"
    }
   ],
   "source": [
    "file1.mode"
   ]
  },
  {
   "attachments": {},
   "cell_type": "markdown",
   "metadata": {},
   "source": [
    "You can close the file with file1.close but \"with\" is better for reading as it will automatically close the file "
   ]
  },
  {
   "cell_type": "code",
   "execution_count": 6,
   "metadata": {},
   "outputs": [
    {
     "name": "stdout",
     "output_type": "stream",
     "text": [
      "<_io.TextIOWrapper name='C:\\\\Users\\\\17063\\\\Downloads\\\\resources.txt' mode='w' encoding='cp1252'>\n"
     ]
    }
   ],
   "source": [
    "print(file1)"
   ]
  },
  {
   "cell_type": "code",
   "execution_count": 18,
   "metadata": {},
   "outputs": [
    {
     "name": "stdout",
     "output_type": "stream",
     "text": [
      "Sources for finding datasets\n",
      "https://dataplatform.cloud.ibm.com/gallery\n",
      "Kaggle.com/datasets\n",
      "datasetsearch.research.google.com\n",
      "https://developer.ibm.com/exchanges/data/\n",
      "https://data.un.org/\n",
      "https://catalog.data.gov/dataset\n",
      "https://data.europa.eu/en\n",
      "\n",
      "\n",
      "# Python \n",
      "\n",
      "Intorduction to Command Prompt\n",
      "https://www.youtube.com/playlist?list=PLg4g9kVn2OVh0wDpGwIbGTHt2qw6qLeI2\n",
      "   If you want to install python packages with pip, being familiar with command prompt is useful as you might use something like pip install xxx in cmd to install libraries or packages \n",
      "\n",
      "Markdown language to be used in Jupyter notebooks\n",
      "https://github.com/adam-p/markdown-here/wiki/Markdown-Cheatsheet\n",
      "\n",
      "Python Cheat Sheet \n",
      "https://quickref.me/python\n",
      "\n",
      "List of errors in python / exception handling \n",
      "https://docs.python.org/3/library/exceptions.html\n",
      "True\n",
      "['Sources for finding datasets\\n', 'https://dataplatform.cloud.ibm.com/gallery\\n', 'Kaggle.com/datasets\\n', 'datasetsearch.research.google.com\\n', 'https://developer.ibm.com/exchanges/data/\\n', 'https://data.un.org/\\n', 'https://catalog.data.gov/dataset\\n', 'https://data.europa.eu/en\\n', '\\n', '\\n', '# Python \\n', '\\n', 'Intorduction to Command Prompt\\n', 'https://www.youtube.com/playlist?list=PLg4g9kVn2OVh0wDpGwIbGTHt2qw6qLeI2\\n', '   If you want to install python packages with pip, being familiar with command prompt is useful as you might use something like pip install xxx in cmd to install libraries or packages \\n', '\\n', 'Markdown language to be used in Jupyter notebooks\\n', 'https://github.com/adam-p/markdown-here/wiki/Markdown-Cheatsheet\\n', '\\n', 'Python Cheat Sheet \\n', 'https://quickref.me/python\\n', '\\n', 'List of errors in python / exception handling \\n', 'https://docs.python.org/3/library/exceptions.html']\n"
     ]
    }
   ],
   "source": [
    "#another way to read the file \n",
    "with open (\"C:\\\\Users\\\\17063\\\\Downloads\\\\resources.txt\", \"r\") as File1:\n",
    "    #file_stuff = File1.read()\n",
    "    print(file_stuff)\n",
    "    file_stuff = File1.readlines()\n",
    "\n",
    "print(File1.closed)\n",
    "print(file_stuff)\n"
   ]
  },
  {
   "cell_type": "code",
   "execution_count": 16,
   "metadata": {},
   "outputs": [
    {
     "name": "stdout",
     "output_type": "stream",
     "text": [
      "Sources for finding datasets\n",
      "https://dataplatform.cloud.ibm.com/gallery\n",
      "Kaggle.com/datasets\n",
      "datasetsearch.research.google.com\n",
      "https://developer.ibm.com/exchanges/data/\n",
      "https://data.un.org/\n",
      "https://catalog.data.gov/dataset\n",
      "https://data.europa.eu/en\n",
      "\n",
      "\n",
      "# Python \n",
      "\n",
      "Intorduction to Command Prompt\n",
      "https://www.youtube.com/playlist?list=PLg4g9kVn2OVh0wDpGwIbGTHt2qw6qLeI2\n",
      "   If you want to install python packages with pip, being familiar with command prompt is useful as you might use something like pip install xxx in cmd to install libraries or packages \n",
      "\n",
      "Markdown language to be used in Jupyter notebooks\n",
      "https://github.com/adam-p/markdown-here/wiki/Markdown-Cheatsheet\n",
      "\n",
      "Python Cheat Sheet \n",
      "https://quickref.me/python\n",
      "\n",
      "List of errors in python / exception handling \n",
      "https://docs.python.org/3/library/exceptions.html\n"
     ]
    }
   ],
   "source": [
    "print(file_stuff)\n"
   ]
  },
  {
   "cell_type": "code",
   "execution_count": 19,
   "metadata": {},
   "outputs": [
    {
     "data": {
      "text/plain": [
       "<function TextIOWrapper.readlines(hint=-1, /)>"
      ]
     },
     "execution_count": 19,
     "metadata": {},
     "output_type": "execute_result"
    }
   ],
   "source": [
    "File1.readlines"
   ]
  },
  {
   "cell_type": "code",
   "execution_count": 23,
   "metadata": {},
   "outputs": [
    {
     "data": {
      "text/plain": [
       "('resources.txt', <http.client.HTTPMessage at 0x205fb320fd0>)"
      ]
     },
     "execution_count": 23,
     "metadata": {},
     "output_type": "execute_result"
    }
   ],
   "source": [
    "#download and read data from internet \n",
    "import urllib.request\n",
    "url = \"https://github.com/soheilshapouri/hello-world/blob/main/resources.txt\"\n",
    "filename = \"resources.txt\"\n",
    "urllib.request.urlretrieve(url, filename)"
   ]
  },
  {
   "cell_type": "code",
   "execution_count": 27,
   "metadata": {},
   "outputs": [],
   "source": [
    "example1 = \"resources.txt\"\n",
    "file1 = open(example1, \"r\")"
   ]
  },
  {
   "cell_type": "code",
   "execution_count": 28,
   "metadata": {},
   "outputs": [
    {
     "data": {
      "text/plain": [
       "'resources.txt'"
      ]
     },
     "execution_count": 28,
     "metadata": {},
     "output_type": "execute_result"
    }
   ],
   "source": [
    "file1.name"
   ]
  },
  {
   "cell_type": "code",
   "execution_count": 29,
   "metadata": {},
   "outputs": [
    {
     "data": {
      "text/plain": [
       "'r'"
      ]
     },
     "execution_count": 29,
     "metadata": {},
     "output_type": "execute_result"
    }
   ],
   "source": [
    "file1.mode"
   ]
  },
  {
   "cell_type": "code",
   "execution_count": 32,
   "metadata": {},
   "outputs": [
    {
     "data": {
      "text/plain": [
       "''"
      ]
     },
     "execution_count": 32,
     "metadata": {},
     "output_type": "execute_result"
    }
   ],
   "source": [
    "FileContent = file1.read()\n",
    "FileContent"
   ]
  },
  {
   "cell_type": "code",
   "execution_count": 33,
   "metadata": {},
   "outputs": [
    {
     "name": "stdout",
     "output_type": "stream",
     "text": [
      "\n"
     ]
    }
   ],
   "source": [
    "print(FileContent)"
   ]
  },
  {
   "cell_type": "code",
   "execution_count": 34,
   "metadata": {},
   "outputs": [
    {
     "data": {
      "text/plain": [
       "str"
      ]
     },
     "execution_count": 34,
     "metadata": {},
     "output_type": "execute_result"
    }
   ],
   "source": [
    "type(FileContent)"
   ]
  },
  {
   "cell_type": "code",
   "execution_count": 35,
   "metadata": {},
   "outputs": [],
   "source": [
    "file1.close()"
   ]
  },
  {
   "cell_type": "code",
   "execution_count": 40,
   "metadata": {},
   "outputs": [
    {
     "name": "stdout",
     "output_type": "stream",
     "text": [
      "Sources for finding datasets\n",
      "https://dataplatform.cloud.ibm.com/gallery\n",
      "Kaggle.com/datasets\n",
      "datasetsearch.research.google.com\n",
      "https://developer.ibm.com/exchanges/data/\n",
      "https://data.un.org/\n",
      "https://catalog.data.gov/dataset\n",
      "https://data.europa.eu/en\n",
      "\n",
      "\n",
      "# Python \n",
      "\n",
      "Intorduction to Command Prompt\n",
      "https://www.youtube.com/playlist?list=PLg4g9kVn2OVh0wDpGwIbGTHt2qw6qLeI2\n",
      "   If you want to install python packages with pip, being familiar with command prompt is useful as you might use something like pip install xxx in cmd to install libraries or packages \n",
      "\n",
      "Markdown language to be used in Jupyter notebooks\n",
      "https://github.com/adam-p/markdown-here/wiki/Markdown-Cheatsheet\n",
      "\n",
      "Python Cheat Sheet \n",
      "https://quickref.me/python\n",
      "\n",
      "List of errors in python / exception handling \n",
      "https://docs.python.org/3/library/exceptions.html\n"
     ]
    }
   ],
   "source": [
    "#another way to read the file \n",
    "with open (\"C:\\\\Users\\\\17063\\\\Downloads\\\\resources.txt\", \"r\") as file1:\n",
    "    FileContent = file1.read()\n",
    "    print(FileContent)\n"
   ]
  },
  {
   "cell_type": "code",
   "execution_count": 42,
   "metadata": {},
   "outputs": [
    {
     "data": {
      "text/plain": [
       "True"
      ]
     },
     "execution_count": 42,
     "metadata": {},
     "output_type": "execute_result"
    }
   ],
   "source": [
    "#because I read the file with \"with open\" it is now closed\n",
    "#we can verify that\n",
    "file1.closed\n"
   ]
  },
  {
   "cell_type": "code",
   "execution_count": 43,
   "metadata": {},
   "outputs": [
    {
     "name": "stdout",
     "output_type": "stream",
     "text": [
      "Sources for finding datasets\n",
      "https://dataplatform.cloud.ibm.com/gallery\n",
      "Kaggle.com/datasets\n",
      "datasetsearch.research.google.com\n",
      "https://developer.ibm.com/exchanges/data/\n",
      "https://data.un.org/\n",
      "https://catalog.data.gov/dataset\n",
      "https://data.europa.eu/en\n",
      "\n",
      "\n",
      "# Python \n",
      "\n",
      "Intorduction to Command Prompt\n",
      "https://www.youtube.com/playlist?list=PLg4g9kVn2OVh0wDpGwIbGTHt2qw6qLeI2\n",
      "   If you want to install python packages with pip, being familiar with command prompt is useful as you might use something like pip install xxx in cmd to install libraries or packages \n",
      "\n",
      "Markdown language to be used in Jupyter notebooks\n",
      "https://github.com/adam-p/markdown-here/wiki/Markdown-Cheatsheet\n",
      "\n",
      "Python Cheat Sheet \n",
      "https://quickref.me/python\n",
      "\n",
      "List of errors in python / exception handling \n",
      "https://docs.python.org/3/library/exceptions.html\n"
     ]
    }
   ],
   "source": [
    "#see the content of the file \n",
    "print(FileContent)"
   ]
  },
  {
   "cell_type": "code",
   "execution_count": 45,
   "metadata": {},
   "outputs": [
    {
     "name": "stdout",
     "output_type": "stream",
     "text": [
      "Sour\n"
     ]
    }
   ],
   "source": [
    "#read first four characters\n",
    "with open (\"C:\\\\Users\\\\17063\\\\Downloads\\\\resources.txt\", \"r\") as file1:\n",
    " print(file1.read(4))"
   ]
  },
  {
   "cell_type": "code",
   "execution_count": 47,
   "metadata": {},
   "outputs": [
    {
     "name": "stdout",
     "output_type": "stream",
     "text": [
      "Sour\n",
      "ces f\n",
      "or fin\n",
      "ding datasets\n",
      "https://dataplatform.cloud.ibm.com/gallery\n"
     ]
    }
   ],
   "source": [
    "with open (\"C:\\\\Users\\\\17063\\\\Downloads\\\\resources.txt\", \"r\") as file1:\n",
    " print(file1.read(4))\n",
    " print(file1.read(5))\n",
    " print(file1.read(6))\n",
    " print(file1.read(56))"
   ]
  },
  {
   "cell_type": "code",
   "execution_count": 2,
   "metadata": {},
   "outputs": [],
   "source": [
    "#write files \n",
    "with open(\"C:\\\\Users\\\\17063\\\\Downloads\\\\file2.txt\", \"w\") as file2:\n",
    "    file2.write(\"I don't know what the hell I am doing \\n\")\n",
    "    file2.write(\"Ok, now it is making sense \\n\")"
   ]
  },
  {
   "cell_type": "code",
   "execution_count": 3,
   "metadata": {},
   "outputs": [],
   "source": [
    "#just add something to an existing file \n",
    "with open(\"C:\\\\Users\\\\17063\\\\Downloads\\\\file2.txt\", \"a\") as file2:\n",
    "    file2.write(\"hopefulyy this will be the thirst line\")"
   ]
  }
 ],
 "metadata": {
  "kernelspec": {
   "display_name": "Python 3",
   "language": "python",
   "name": "python3"
  },
  "language_info": {
   "codemirror_mode": {
    "name": "ipython",
    "version": 3
   },
   "file_extension": ".py",
   "mimetype": "text/x-python",
   "name": "python",
   "nbconvert_exporter": "python",
   "pygments_lexer": "ipython3",
   "version": "3.11.1"
  },
  "orig_nbformat": 4
 },
 "nbformat": 4,
 "nbformat_minor": 2
}
