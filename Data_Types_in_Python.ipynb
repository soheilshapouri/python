{
 "cells": [
  {
   "attachments": {},
   "cell_type": "markdown",
   "metadata": {},
   "source": [
    "Data Types in Python"
   ]
  },
  {
   "cell_type": "code",
   "execution_count": 16,
   "metadata": {},
   "outputs": [
    {
     "data": {
      "text/plain": [
       "bool"
      ]
     },
     "execution_count": 16,
     "metadata": {},
     "output_type": "execute_result"
    }
   ],
   "source": [
    "type(12)\n",
    "type(-8) #integer\n",
    "type(12.89) #float\n",
    "type(\"Hello\") #string\n",
    "type(True) #Boolean"
   ]
  },
  {
   "cell_type": "code",
   "execution_count": 1,
   "metadata": {},
   "outputs": [
    {
     "data": {
      "text/plain": [
       "False"
      ]
     },
     "execution_count": 1,
     "metadata": {},
     "output_type": "execute_result"
    }
   ],
   "source": [
    "#casting or typecasting \n",
    "float(2)\n",
    "int(2.1) #cast a float to an integer\n",
    "int(\"1\")\n",
    "str(1)\n",
    "str(3.4)\n",
    "int(True)\n",
    "int(False) # if we cast a Boolean to an integer or float, we get a 0. \n",
    "bool(0) #if we cast a 0 to a Boolean, we get a False"
   ]
  },
  {
   "cell_type": "code",
   "execution_count": 2,
   "metadata": {},
   "outputs": [
    {
     "data": {
      "text/plain": [
       "tuple"
      ]
     },
     "execution_count": 2,
     "metadata": {},
     "output_type": "execute_result"
    }
   ],
   "source": [
    "#tuples: ordered seqeunces; use paranthesis to make them \n",
    "tuple1 = (\"disc\", 1, 2.34)\n",
    "type(tuple1)"
   ]
  },
  {
   "cell_type": "code",
   "execution_count": 5,
   "metadata": {},
   "outputs": [
    {
     "data": {
      "text/plain": [
       "('disc', 1, 2.34, 'hard work', 3)"
      ]
     },
     "execution_count": 5,
     "metadata": {},
     "output_type": "execute_result"
    }
   ],
   "source": [
    "tuple2 = tuple1 +(\"hard work\", 3)\n",
    "tuple2"
   ]
  },
  {
   "cell_type": "code",
   "execution_count": 6,
   "metadata": {},
   "outputs": [
    {
     "data": {
      "text/plain": [
       "2.34"
      ]
     },
     "execution_count": 6,
     "metadata": {},
     "output_type": "execute_result"
    }
   ],
   "source": [
    "#slicing tuples \n",
    "tuple1[2]"
   ]
  },
  {
   "cell_type": "code",
   "execution_count": 7,
   "metadata": {},
   "outputs": [
    {
     "data": {
      "text/plain": [
       "5"
      ]
     },
     "execution_count": 7,
     "metadata": {},
     "output_type": "execute_result"
    }
   ],
   "source": [
    "#length of the tuple\n",
    "len(tuple2)"
   ]
  },
  {
   "cell_type": "code",
   "execution_count": 8,
   "metadata": {},
   "outputs": [
    {
     "ename": "TypeError",
     "evalue": "'tuple' object does not support item assignment",
     "output_type": "error",
     "traceback": [
      "\u001b[1;31m---------------------------------------------------------------------------\u001b[0m",
      "\u001b[1;31mTypeError\u001b[0m                                 Traceback (most recent call last)",
      "Cell \u001b[1;32mIn[8], line 2\u001b[0m\n\u001b[0;32m      1\u001b[0m \u001b[39m#tuples are immutable; you cannot change them \u001b[39;00m\n\u001b[1;32m----> 2\u001b[0m tuple1[\u001b[39m2\u001b[39;49m] \u001b[39m=\u001b[39m \u001b[39m5\u001b[39m\n",
      "\u001b[1;31mTypeError\u001b[0m: 'tuple' object does not support item assignment"
     ]
    }
   ],
   "source": [
    "#tuples are immutable; you cannot change them \n",
    "tuple1[2] = 5 \n",
    "#you get an error: tuple object does not support item assignment "
   ]
  },
  {
   "cell_type": "code",
   "execution_count": 13,
   "metadata": {},
   "outputs": [
    {
     "name": "stdout",
     "output_type": "stream",
     "text": [
      "[4, 7, 8]\n"
     ]
    }
   ],
   "source": [
    "#still we might be able to change tuples \n",
    "tuple3 = (8,7,4)\n",
    "tuple3sorted = sorted(tuple3)\n",
    "print(tuple3sorted)\n",
    "#but tuple3sorted would be a list"
   ]
  },
  {
   "cell_type": "code",
   "execution_count": 23,
   "metadata": {},
   "outputs": [
    {
     "name": "stdout",
     "output_type": "stream",
     "text": [
      "(3, ('hello', 'world'), (4.7, 7))\n",
      "(4.7, 7)\n",
      "4.7\n",
      "d\n"
     ]
    }
   ],
   "source": [
    "#nesting or tuples in tuples\n",
    "tuple4 = (3,(\"hello\", \"world\"), (4.7, 7))\n",
    "print(tuple4)\n",
    "print(tuple4[2])\n",
    "#slicing in nested tuples \n",
    "print(tuple4[2][0])\n",
    "print(tuple4[1][1][4])"
   ]
  },
  {
   "cell_type": "code",
   "execution_count": 24,
   "metadata": {},
   "outputs": [],
   "source": [
    "#lists: again like tuples they are ordered seqeunces but use square barackets to make them \n",
    "#but lists are mutable\n",
    "list1 = [\"Soheil\", 23, 8.9]"
   ]
  }
 ],
 "metadata": {
  "kernelspec": {
   "display_name": "Python 3",
   "language": "python",
   "name": "python3"
  },
  "language_info": {
   "codemirror_mode": {
    "name": "ipython",
    "version": 3
   },
   "file_extension": ".py",
   "mimetype": "text/x-python",
   "name": "python",
   "nbconvert_exporter": "python",
   "pygments_lexer": "ipython3",
   "version": "3.11.1"
  },
  "orig_nbformat": 4
 },
 "nbformat": 4,
 "nbformat_minor": 2
}
